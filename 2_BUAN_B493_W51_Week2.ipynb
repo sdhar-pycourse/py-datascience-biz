{
  "nbformat": 4,
  "nbformat_minor": 0,
  "metadata": {
    "kernelspec": {
      "display_name": "Python 3",
      "language": "python",
      "name": "python3"
    },
    "language_info": {
      "codemirror_mode": {
        "name": "ipython",
        "version": 3
      },
      "file_extension": ".py",
      "mimetype": "text/x-python",
      "name": "python",
      "nbconvert_exporter": "python",
      "pygments_lexer": "ipython3",
      "version": "3.8.3"
    },
    "toc": {
      "base_numbering": 1,
      "nav_menu": {},
      "number_sections": false,
      "sideBar": false,
      "skip_h1_title": false,
      "title_cell": "Table of Contents",
      "title_sidebar": "Contents",
      "toc_cell": false,
      "toc_position": {},
      "toc_section_display": false,
      "toc_window_display": false
    },
    "colab": {
      "name": "2.BUAN B493-W51-Week2.ipynb",
      "provenance": [],
      "collapsed_sections": [],
      "include_colab_link": true
    }
  },
  "cells": [
    {
      "cell_type": "markdown",
      "metadata": {
        "id": "view-in-github",
        "colab_type": "text"
      },
      "source": [
        "<a href=\"https://colab.research.google.com/github/sdhar-pycourse/py-datascience-biz/blob/main/2_BUAN_B493_W51_Week2.ipynb\" target=\"_parent\"><img src=\"https://colab.research.google.com/assets/colab-badge.svg\" alt=\"Open In Colab\"/></a>"
      ]
    },
    {
      "cell_type": "markdown",
      "metadata": {
        "id": "tmUWUTyn3h4O"
      },
      "source": [
        "\n",
        "\n",
        "\n",
        "# <font color = navy> 2. Basics of Python for Data Science"
      ]
    },
    {
      "cell_type": "markdown",
      "metadata": {
        "id": "W7tHtG30gNxq"
      },
      "source": [
        "These are very first set of syntax in Python programming. These are concepts that we need to know and use in a repeatable manner in future work.\n",
        "\n",
        "The goal of this class is to begin writing syntactically correct snippets of code as a precursor to doing data analysis."
      ]
    },
    {
      "cell_type": "markdown",
      "metadata": {
        "id": "o0X3nBEiX2aV"
      },
      "source": [
        "- 2.1. Variables and Data Types\n",
        "- 2.2 Conditional Statements\n",
        "- 2.3. Loops (For and While)\n",
        "- 2.4. List and List Comprehension\n",
        "- 2.5. Dictionary and Frequency Table\n",
        "- 2.6. Function and applications\n",
        "- 2.7. Important Python Libraries"
      ]
    },
    {
      "cell_type": "markdown",
      "metadata": {
        "id": "nq_6JA_2qBF_"
      },
      "source": [
        "# <font color = navy> 2.1 Simplest of syntaxes\n",
        "\n",
        "- The 'print' syntax allows you to print textual output of your programs. Here are a few examples of how the print statement works. \n",
        "- This is pretty much axiometric- this is how it is defined in the programming syntax.\n",
        "- A few interesting output formating of print is provided below, for you to repurpose and reuse\n",
        "\n",
        "\n",
        "\n"
      ]
    },
    {
      "cell_type": "code",
      "metadata": {
        "colab": {
          "base_uri": "https://localhost:8080/"
        },
        "id": "5DKCZdnhqIu4",
        "outputId": "8cae7c42-9ced-4d74-ea37-facc04917b06"
      },
      "source": [
        "# Prints like a computer\n",
        "course_num= 'BAUN493'\n",
        "class_size= 13\n",
        "pct_A= .9\n",
        "avg_score= 96.58154\n",
        "\n",
        "#Print a charcater string\n",
        "print('Course Number:', course_num)\n",
        "print('Class Size:', class_size)\n",
        "print('Average Class Score:', avg_score)\n",
        "print('% Scored a A or better:',pct_A)"
      ],
      "execution_count": null,
      "outputs": [
        {
          "output_type": "stream",
          "text": [
            "Course Number: BAUN493\n",
            "Class Size: 13\n",
            "Average Class Score: 96.58154\n",
            "% Scored a A or better: 0.9\n"
          ],
          "name": "stdout"
        }
      ]
    },
    {
      "cell_type": "markdown",
      "metadata": {
        "id": "KMa1o2_ds_ZK"
      },
      "source": [
        "## <font color = navy> 2.1.1. Formated Print Output\n",
        "\n",
        "Gives you lot more flexibility to output results almost as in the English language.\n",
        "\n",
        "The following are a few examples that you are instructive and you should try and use in your work"
      ]
    },
    {
      "cell_type": "code",
      "metadata": {
        "colab": {
          "base_uri": "https://localhost:8080/"
        },
        "id": "g3m7ChAPERb2",
        "outputId": "df2db865-61f0-4922-9b1e-3ae79b133998"
      },
      "source": [
        "# Prints like English\n",
        "course_num= 'BAUN493'\n",
        "class_size= 13\n",
        "pct_A= .9\n",
        "avg_score= 96.58154\n",
        "\n",
        "print('Course Number {0:s} has a class size of {1:d} with {2:.2%} \\\n",
        "scoring over an A with an Average Raw Score of {3:.2f}'.\\\n",
        "format(course_num, class_size, pct_A, avg_score))"
      ],
      "execution_count": null,
      "outputs": [
        {
          "output_type": "stream",
          "text": [
            "Course Number BAUN493 has a class size of 13 with 90.00% scoring over an A with an Average Raw Score of 96.58\n"
          ],
          "name": "stdout"
        }
      ]
    },
    {
      "cell_type": "markdown",
      "metadata": {
        "id": "ABNe__OOLbXL"
      },
      "source": [
        "Observations:\n",
        "\n",
        "\n",
        "1.   Entire sentence in ''\n",
        "2.   Line continuation is managed through <div>\\ <div>\n",
        "1.   Variables are indexed by 0..3\n",
        "2.   Formats are specific to the variable types and their usage\n",
        "\n",
        "These are commonly used output formating in the course. For more illustrations, you may look [here](https://www.geeksforgeeks.org/python-format-function/)\n",
        "\n",
        "\n",
        "\n"
      ]
    },
    {
      "cell_type": "markdown",
      "metadata": {
        "id": "rebdecRJX2aV"
      },
      "source": [
        "#<font color = navy>  2.2. Variables and Data Types"
      ]
    },
    {
      "cell_type": "markdown",
      "metadata": {
        "id": "a68fDFqaprYg"
      },
      "source": [
        " - Variables are containers for storing data values.\n",
        " - The Python interpretor allocates computer memory for each defined variables"
      ]
    },
    {
      "cell_type": "markdown",
      "metadata": {
        "id": "AuHvGMdAX2aV"
      },
      "source": [
        "## <font color = navy> 2.2.1. Variable Declaration\n",
        "\n",
        " -  In Python, a variable is created the moment you first assign a value to it.\n",
        "\n",
        " - When we run the code `x = 3`, the value `3` is saved in the computer memory. The computer memory has large number of storage locations, and `3` is saved to one particular location.\n",
        " - The storage location to which we saved `3` has a unique identifier, and we can use it to access `3`. The identifier is named `x`, and we named it that way when we ran the code `x = 3`\n",
        " "
      ]
    },
    {
      "cell_type": "code",
      "metadata": {
        "id": "5LBV6YM8X2aV"
      },
      "source": [
        "x=3"
      ],
      "execution_count": null,
      "outputs": []
    },
    {
      "cell_type": "code",
      "metadata": {
        "id": "Os6XmvixX2aW"
      },
      "source": [
        "y='Hello World'"
      ],
      "execution_count": null,
      "outputs": []
    },
    {
      "cell_type": "code",
      "metadata": {
        "id": "vfKEmcpeX2aW"
      },
      "source": [
        "# Syntactically correct way of defining 2 variables in one line of code. Not really a great idea\n",
        "x=3;y='Hello World'"
      ],
      "execution_count": null,
      "outputs": []
    },
    {
      "cell_type": "markdown",
      "metadata": {
        "id": "5EOKMhDRX2aW"
      },
      "source": [
        "## <font color = navy>2.2.2.  Data Types in Python\n",
        " \n"
      ]
    },
    {
      "cell_type": "markdown",
      "metadata": {
        "id": "B36iQdBXX2aW"
      },
      "source": [
        "- <font color=blue>Booleans</font> are either True or False.\n",
        "- <font color=blue>Numbers</font> can be integers (1 and 2), floats (1.1 and 1.2), fractions (1/2 and 2/3), or even complex numbers.\n",
        "- <font color=blue>Strings</font> are sequences of Unicode characters, e.g. an html document.\n",
        "- <font color=blue>Lists</font> are ordered sequences of values.\n",
        "- <font color=blue>Tuples</font> are ordered, immutable sequences of values.\n",
        "- <font color=blue>Sets</font> are unordered bags of values.\n",
        "- <font color=blue>Dictionaries</font> are unordered bags of key-value pairs. "
      ]
    },
    {
      "cell_type": "markdown",
      "metadata": {
        "id": "0UHrUMgDX2aW"
      },
      "source": [
        "#### <font color = navy>2.2.2.1. Boolean\n",
        "\n",
        "- The boolean data type is either `True` or `False`. In Python, boolean variables are defined by the `True` and `False` keywords. \n",
        "\n",
        "- The output `<class 'bool'>` indicates the variable is a boolean data type.\n",
        "\n",
        "- Note the keywords `True` and `False` must have an Upper Case first letter. Using a lowercase true returns an `error`."
      ]
    },
    {
      "cell_type": "code",
      "metadata": {
        "id": "3MuSsXtYX2aX"
      },
      "source": [
        "x = True # True and False are case senstitve\n",
        "y = False"
      ],
      "execution_count": null,
      "outputs": []
    },
    {
      "cell_type": "code",
      "metadata": {
        "scrolled": true,
        "id": "26GibHJyX2aX",
        "colab": {
          "base_uri": "https://localhost:8080/"
        },
        "outputId": "c56c3aa9-bf64-4059-dd65-9c045467c327"
      },
      "source": [
        "print(type(x))"
      ],
      "execution_count": null,
      "outputs": [
        {
          "output_type": "stream",
          "text": [
            "<class 'str'>\n"
          ],
          "name": "stdout"
        }
      ]
    },
    {
      "cell_type": "code",
      "metadata": {
        "colab": {
          "base_uri": "https://localhost:8080/",
          "height": 162
        },
        "id": "GW5fhONFkFV9",
        "outputId": "43fbc6b2-11d8-4076-e983-1c28c3c63654"
      },
      "source": [
        "x= true"
      ],
      "execution_count": null,
      "outputs": [
        {
          "output_type": "error",
          "ename": "NameError",
          "evalue": "ignored",
          "traceback": [
            "\u001b[0;31m---------------------------------------------------------------------------\u001b[0m",
            "\u001b[0;31mNameError\u001b[0m                                 Traceback (most recent call last)",
            "\u001b[0;32m<ipython-input-59-9b2be4a47841>\u001b[0m in \u001b[0;36m<module>\u001b[0;34m()\u001b[0m\n\u001b[0;32m----> 1\u001b[0;31m \u001b[0mx\u001b[0m\u001b[0;34m=\u001b[0m \u001b[0mtrue\u001b[0m\u001b[0;34m\u001b[0m\u001b[0;34m\u001b[0m\u001b[0m\n\u001b[0m",
            "\u001b[0;31mNameError\u001b[0m: name 'true' is not defined"
          ]
        }
      ]
    },
    {
      "cell_type": "markdown",
      "metadata": {
        "id": "f19p17S6X2aZ"
      },
      "source": [
        "#### <font color = navy>2.2.2.2. Number\n",
        "\n",
        "There are three numeric types in Python:\n",
        "\n",
        "    int\n",
        "    float\n",
        "    complex\n",
        "\n",
        "Variables of numeric types are created when you assign a value to them\n"
      ]
    },
    {
      "cell_type": "code",
      "metadata": {
        "scrolled": true,
        "id": "1kfEughPX2aZ"
      },
      "source": [
        "x=1 ; y=2.5"
      ],
      "execution_count": null,
      "outputs": []
    },
    {
      "cell_type": "code",
      "metadata": {
        "id": "STeEMYolX2aZ",
        "colab": {
          "base_uri": "https://localhost:8080/"
        },
        "outputId": "03ec0db2-4833-4d64-a203-0cb4dd648779"
      },
      "source": [
        "print(type(x))"
      ],
      "execution_count": null,
      "outputs": [
        {
          "output_type": "stream",
          "text": [
            "<class 'int'>\n"
          ],
          "name": "stdout"
        }
      ]
    },
    {
      "cell_type": "code",
      "metadata": {
        "id": "CTaOdzGmX2aZ",
        "colab": {
          "base_uri": "https://localhost:8080/"
        },
        "outputId": "37b879ff-26b6-4fdf-cc65-2e7cbb8cba4c"
      },
      "source": [
        "print(type(y))"
      ],
      "execution_count": null,
      "outputs": [
        {
          "output_type": "stream",
          "text": [
            "<class 'float'>\n"
          ],
          "name": "stdout"
        }
      ]
    },
    {
      "cell_type": "markdown",
      "metadata": {
        "id": "tUJfWYi8X2aa"
      },
      "source": [
        "####  <font color = navy>2.2.2.3. Strings"
      ]
    },
    {
      "cell_type": "code",
      "metadata": {
        "id": "8N7bLOdXX2aa"
      },
      "source": [
        "myString = \"This is a test!!\"\n",
        " "
      ],
      "execution_count": null,
      "outputs": []
    },
    {
      "cell_type": "markdown",
      "metadata": {
        "id": "HE6N3Ex-X2aa"
      },
      "source": [
        "- We can access a specific element using an integer index which counts from  the front of the string \n",
        "- Note: Index starts at **ZERO**!\n",
        " "
      ]
    },
    {
      "cell_type": "code",
      "metadata": {
        "id": "pyhCx1T5X2aa",
        "colab": {
          "base_uri": "https://localhost:8080/"
        },
        "outputId": "b10c9fa4-a9ef-4843-8af0-86b0df5e12d6"
      },
      "source": [
        "print(myString[0]) #produces 'T'\n",
        "print(myString[1]) #produces 'h'\n",
        "print(myString[2]) #produces 'i'\n",
        "print(myString[3]) #produces 's'\n",
        "print(myString[4]) #Guess what!!"
      ],
      "execution_count": null,
      "outputs": [
        {
          "output_type": "stream",
          "text": [
            "T\n",
            "h\n",
            "i\n",
            "s\n",
            " \n"
          ],
          "name": "stdout"
        }
      ]
    },
    {
      "cell_type": "markdown",
      "metadata": {
        "id": "JrfywNo4X2aa"
      },
      "source": [
        "- Included blank characters `' '` are considered as a character as well\n",
        "- The len() function can be used to find the length of a sequence\n",
        "- Remember, the last element is the length minus 1, because counting starts at zero!\n",
        "\n"
      ]
    },
    {
      "cell_type": "code",
      "metadata": {
        "scrolled": true,
        "id": "54Ibk5PCX2aa",
        "colab": {
          "base_uri": "https://localhost:8080/"
        },
        "outputId": "2f4fd1e1-7439-4a40-e6e9-26c6eae4427b"
      },
      "source": [
        "print(len(myString))"
      ],
      "execution_count": null,
      "outputs": [
        {
          "output_type": "stream",
          "text": [
            "16\n"
          ],
          "name": "stdout"
        }
      ]
    },
    {
      "cell_type": "code",
      "metadata": {
        "colab": {
          "base_uri": "https://localhost:8080/",
          "height": 35
        },
        "id": "rMOuAuiLcNye",
        "outputId": "193a25b9-70fe-4f2d-ecd7-ba25329a786f"
      },
      "source": [
        "myString[15]"
      ],
      "execution_count": null,
      "outputs": [
        {
          "output_type": "execute_result",
          "data": {
            "application/vnd.google.colaboratory.intrinsic+json": {
              "type": "string"
            },
            "text/plain": [
              "'!'"
            ]
          },
          "metadata": {
            "tags": []
          },
          "execution_count": 77
        }
      ]
    },
    {
      "cell_type": "markdown",
      "metadata": {
        "id": "wEk5i6DEu88p"
      },
      "source": [
        "Knowing a length of a string can be very handy when you are trying to manipulate it in a `loop`\n",
        "\n",
        "\n"
      ]
    },
    {
      "cell_type": "markdown",
      "metadata": {
        "id": "B01N9edHX2aa"
      },
      "source": [
        "#####  <font color = navy>2.2.2.3.1. Indexing Backwards"
      ]
    },
    {
      "cell_type": "code",
      "metadata": {
        "id": "8o8goj8SX2aa",
        "colab": {
          "base_uri": "https://localhost:8080/"
        },
        "outputId": "472b6388-2704-434e-ac74-b346e3fddca6"
      },
      "source": [
        "print(myString)\n",
        "print('================')\n",
        "print('Last character: ', myString[-1])  \n",
        "print('2nd last character: ',myString[-2]) \n",
        "print('3rd last character: ',myString[-3])\n",
        "print('4th from last: ',myString[-4])\n",
        "print('First character: ', myString[-len(myString)])"
      ],
      "execution_count": null,
      "outputs": [
        {
          "output_type": "stream",
          "text": [
            "This is a test!!\n",
            "================\n",
            "Last character:  !\n",
            "2nd last character:  !\n",
            "3rd last character:  t\n",
            "4th from last:  s\n",
            "First character:  T\n"
          ],
          "name": "stdout"
        }
      ]
    },
    {
      "cell_type": "markdown",
      "metadata": {
        "id": "p_FjdsdxX2ab"
      },
      "source": [
        "#####  <font color = navy>2.2.2.3.2. Grabbing Slices from a Sequence"
      ]
    },
    {
      "cell_type": "markdown",
      "metadata": {
        "id": "NEdCIFioX2ab"
      },
      "source": [
        "- The slice operator will clip out part of a sequence. \n",
        "- It looks a lot like the bracket operator, but with a colon that separates the “start” and “end” points.\n",
        "- SEQUENCE_VAR [ START : END : STEP]\n",
        "- START: start index\n",
        "- END: Up to index but not including END\n",
        "- STEP:  Characters to jump after retrieving each character in the slice\n",
        "\n"
      ]
    },
    {
      "cell_type": "code",
      "metadata": {
        "colab": {
          "base_uri": "https://localhost:8080/"
        },
        "id": "vukOdqOifAp_",
        "outputId": "756438c4-df36-4757-a98f-df859d62586b"
      },
      "source": [
        "print('1. Variable myString: ', myString, x)"
      ],
      "execution_count": null,
      "outputs": [
        {
          "output_type": "stream",
          "text": [
            "1. Variable myString:  This is a test!! True\n"
          ],
          "name": "stdout"
        }
      ]
    },
    {
      "cell_type": "code",
      "metadata": {
        "id": "cO-2MTg8X2ab",
        "colab": {
          "base_uri": "https://localhost:8080/"
        },
        "outputId": "042ea770-3a75-4ed0-eea2-b2f5f7782373"
      },
      "source": [
        "print('1. Variable myString: ', myString)\n",
        "print('2. Starts at 0 and prints until index 2: ',myString[0:3])\n",
        "print('3. Starts at 3 and prints until index 8: ',myString[3:9])\n",
        "print('4. Starts at 3 and prints until index 8, skipping every 2nd caharacter: ',myString[3:9:2])\n",
        "print('5. Leaving start blank, assumes 0: ',myString[:3] )\n",
        "print('6. Leaving assumes you want until the end of the string: ', myString[3:])\n",
        "print('7. Leaving both ends blank reproduces the string: ', myString [ : ])\n",
        "print('8. PALINDROME- reverses the string: ', myString[: : -1])\n"
      ],
      "execution_count": null,
      "outputs": [
        {
          "output_type": "stream",
          "text": [
            "1. Variable myString:  This is a test!!\n",
            "2. Starts at 0 and prints until index 2:  Thi\n",
            "3. Starts at 3 and prints until index 8:  s is a\n",
            "4. Starts at 3 and prints until index 8, skipping every 2nd caharacter:  si \n",
            "5. Leaving start blank, assumes 0:  Thi\n",
            "6. Leaving assumes you want until the end of the string:  s is a test!!\n",
            "7. Leaving both ends blank reproduces the string:  This is a test!!\n",
            "8. PALINDROME- reverses the string:  !!tset a si sihT\n"
          ],
          "name": "stdout"
        }
      ]
    },
    {
      "cell_type": "markdown",
      "metadata": {
        "id": "SyXUqJusX2ad"
      },
      "source": [
        "#### <font color = navy> 2.2.2.4 Tuple\n",
        " - Tuples are sequences of objects, just like lists. \n",
        " \n",
        " - Tuples are immutable i.e. you cannot modify tuples.\n",
        " \n",
        "  - Hold heterogenous data \n",
        "  - Since tuples are immutable, iterating through a tuple is faster than a list\n",
        "  - If data doesn't change, implementing as tuple guarantees it remains write-protected.\n",
        "  -  Generalizing this, a tuple can be used to group any number of items into a single compound value. Syntactically, a tuple is a comma-separated sequence of values.\n"
      ]
    },
    {
      "cell_type": "code",
      "metadata": {
        "scrolled": false,
        "id": "_zFCRXhkX2ad",
        "colab": {
          "base_uri": "https://localhost:8080/"
        },
        "outputId": "4caedeed-eb97-4022-e9be-b817227f78ab"
      },
      "source": [
        "T1 = (5,4,2,6,7)\n",
        "print(T1)\n",
        "print(type(T1))\n",
        "\n",
        "T2= 5,4,2,6,7\n",
        "print(T2)\n",
        "print(type(T2))\n",
        "x1 = (5)\n",
        "print(x1)\n",
        "print(type(x1))\n",
        "\n",
        "T2= (5,) #  Tuple with only single element is defined by specifying item with comma within an optional pair of parentheses.\n",
        "\n",
        "print(T2)\n",
        "print(type(T2))\n"
      ],
      "execution_count": null,
      "outputs": [
        {
          "output_type": "stream",
          "text": [
            "(5, 4, 2, 6, 7)\n",
            "<class 'tuple'>\n",
            "(5, 4, 2, 6, 7)\n",
            "<class 'tuple'>\n",
            "5\n",
            "<class 'int'>\n",
            "(5,)\n",
            "<class 'tuple'>\n"
          ],
          "name": "stdout"
        }
      ]
    },
    {
      "cell_type": "markdown",
      "metadata": {
        "id": "kJhjfNLBX2ad"
      },
      "source": [
        "Tuples are **IMMUTABLE**"
      ]
    },
    {
      "cell_type": "code",
      "metadata": {
        "id": "YTTx_GsiX2ad",
        "colab": {
          "base_uri": "https://localhost:8080/",
          "height": 212
        },
        "outputId": "7d2adb86-1ec1-41db-fc96-9431d639fc10"
      },
      "source": [
        "T1= (5,4,2,6,7)\n",
        "print(T1)\n",
        "T1[2] = 4"
      ],
      "execution_count": null,
      "outputs": [
        {
          "output_type": "stream",
          "text": [
            "(5, 4, 2, 6, 7)\n"
          ],
          "name": "stdout"
        },
        {
          "output_type": "error",
          "ename": "TypeError",
          "evalue": "ignored",
          "traceback": [
            "\u001b[0;31m---------------------------------------------------------------------------\u001b[0m",
            "\u001b[0;31mTypeError\u001b[0m                                 Traceback (most recent call last)",
            "\u001b[0;32m<ipython-input-87-9bdf4fec2945>\u001b[0m in \u001b[0;36m<module>\u001b[0;34m()\u001b[0m\n\u001b[1;32m      1\u001b[0m \u001b[0mT1\u001b[0m\u001b[0;34m=\u001b[0m \u001b[0;34m(\u001b[0m\u001b[0;36m5\u001b[0m\u001b[0;34m,\u001b[0m\u001b[0;36m4\u001b[0m\u001b[0;34m,\u001b[0m\u001b[0;36m2\u001b[0m\u001b[0;34m,\u001b[0m\u001b[0;36m6\u001b[0m\u001b[0;34m,\u001b[0m\u001b[0;36m7\u001b[0m\u001b[0;34m)\u001b[0m\u001b[0;34m\u001b[0m\u001b[0;34m\u001b[0m\u001b[0m\n\u001b[1;32m      2\u001b[0m \u001b[0mprint\u001b[0m\u001b[0;34m(\u001b[0m\u001b[0mT1\u001b[0m\u001b[0;34m)\u001b[0m\u001b[0;34m\u001b[0m\u001b[0;34m\u001b[0m\u001b[0m\n\u001b[0;32m----> 3\u001b[0;31m \u001b[0mT1\u001b[0m\u001b[0;34m[\u001b[0m\u001b[0;36m2\u001b[0m\u001b[0;34m]\u001b[0m \u001b[0;34m=\u001b[0m \u001b[0;36m4\u001b[0m\u001b[0;34m\u001b[0m\u001b[0;34m\u001b[0m\u001b[0m\n\u001b[0m",
            "\u001b[0;31mTypeError\u001b[0m: 'tuple' object does not support item assignment"
          ]
        }
      ]
    },
    {
      "cell_type": "code",
      "metadata": {
        "id": "dXqck1yJX2ad",
        "colab": {
          "base_uri": "https://localhost:8080/"
        },
        "outputId": "33a0c9f1-98e8-4c6b-a70d-d0922cc41b68"
      },
      "source": [
        "T1 = [(2,3),(4,5),('b',7),(8,9)]\n",
        "print(type(T1))\n",
        "for t in T1:\n",
        "    print (t)\n",
        "    print(type(t))\n"
      ],
      "execution_count": null,
      "outputs": [
        {
          "output_type": "stream",
          "text": [
            "<class 'list'>\n",
            "(2, 3)\n",
            "<class 'tuple'>\n",
            "(4, 5)\n",
            "<class 'tuple'>\n",
            "('b', 7)\n",
            "<class 'tuple'>\n",
            "(8, 9)\n",
            "<class 'tuple'>\n"
          ],
          "name": "stdout"
        }
      ]
    },
    {
      "cell_type": "markdown",
      "metadata": {
        "id": "Cw5x23PD1XuX"
      },
      "source": [
        "- Defining a tuple with heterogenous data types\n",
        "- Assigning tuple values to different variables"
      ]
    },
    {
      "cell_type": "code",
      "metadata": {
        "id": "jx52JhybX2ad",
        "colab": {
          "base_uri": "https://localhost:8080/"
        },
        "outputId": "0c6bc3a9-7e7d-4186-ac70-3d44cd2c8037"
      },
      "source": [
        "T1= (2,'b',3.2,10,(4,2))\n",
        "print(T1)\n",
        "i1,i2,i3,i4,i5 = T1\n",
        "print(i1,i2,i3,i4,i5)\n",
        "print(i5)\n",
        "print(type(i5))\n",
        "\n"
      ],
      "execution_count": null,
      "outputs": [
        {
          "output_type": "stream",
          "text": [
            "(2, 'b', 3.2, 10, (4, 2))\n",
            "2 b 3.2 10 (4, 2)\n",
            "(4, 2)\n",
            "<class 'tuple'>\n"
          ],
          "name": "stdout"
        }
      ]
    },
    {
      "cell_type": "markdown",
      "metadata": {
        "id": "UOJyl-cVX2ad"
      },
      "source": [
        "*Note:* We shall now take a short detour into python control structures and loops before going any further with data types as the Python control structures are essential in manipulating and observing these"
      ]
    },
    {
      "cell_type": "markdown",
      "metadata": {
        "id": "90HsA0MQ5coI"
      },
      "source": [
        "#   <font color = navy>2.3 Control Structures\n",
        "- Two important control structures: \n",
        " - Iteration \n",
        " - Selection. \n",
        "\n",
        "- Analyst can choose the statement that is most useful for the given circumstance."
      ]
    },
    {
      "cell_type": "markdown",
      "metadata": {
        "id": "f_4cfeXkX2ad"
      },
      "source": [
        "##   <font color = navy> 2.3.1. Conditional Statements\n",
        "\n"
      ]
    },
    {
      "cell_type": "code",
      "metadata": {
        "colab": {
          "base_uri": "https://localhost:8080/",
          "height": 429
        },
        "id": "SnXwn54f-vQB",
        "outputId": "5b9c39d9-9c7a-48e8-d078-6b7aa72bf00f"
      },
      "source": [
        "from IPython.display import Image\n",
        "Image(\"https://media.geeksforgeeks.org/wp-content/uploads/20191122131748/Python-logical-and-operator2.jpg\")"
      ],
      "execution_count": null,
      "outputs": [
        {
          "output_type": "execute_result",
          "data": {
            "image/jpeg": "[encoded data removed]",
            "text/plain": [
              "<IPython.core.display.Image object>"
            ]
          },
          "metadata": {
            "tags": []
          },
          "execution_count": 26
        }
      ]
    },
    {
      "cell_type": "code",
      "metadata": {
        "id": "v6W1ZdPtX2ad",
        "colab": {
          "base_uri": "https://localhost:8080/"
        },
        "outputId": "1745013a-d445-4629-b9e7-53a911a5c68f"
      },
      "source": [
        "a = 3\n",
        "if a <= 5:\n",
        "  print(\"Condition is True\")"
      ],
      "execution_count": null,
      "outputs": [
        {
          "output_type": "stream",
          "text": [
            "Condition is True\n"
          ],
          "name": "stdout"
        }
      ]
    },
    {
      "cell_type": "code",
      "metadata": {
        "id": "O9jzly2kX2ae",
        "colab": {
          "base_uri": "https://localhost:8080/"
        },
        "outputId": "30070415-770e-456e-881a-5865050dfc8a"
      },
      "source": [
        "a = 0\n",
        "print (\"Another Statement\")\n",
        "if a == 0:\n",
        "    print(\"I am in IF Block\")\n",
        "else:\n",
        "    print(\"I am in ELSE Block\")\n"
      ],
      "execution_count": null,
      "outputs": [
        {
          "output_type": "stream",
          "text": [
            "Another Statement\n",
            "I am in IF Block\n"
          ],
          "name": "stdout"
        }
      ]
    },
    {
      "cell_type": "code",
      "metadata": {
        "id": "GI-vHq3cX2ae",
        "colab": {
          "base_uri": "https://localhost:8080/"
        },
        "outputId": "cc9c2101-8327-409a-82ac-281a0487554e"
      },
      "source": [
        "var = 4900\n",
        "if (var < 200 and var >= 50):\n",
        "    print (\"Expression value is less than 200 & greater than 50\")\n",
        "    if var == 150:\n",
        "        print (\"Which is 150\")\n",
        "    elif var == 100:\n",
        "        print (\"Which is 100\")\n",
        "    elif var == 50:\n",
        "        print (\"Which is 50\")\n",
        "elif var < 50:\n",
        "    print (\"Expression value is less than 50\")\n",
        "else:\n",
        "    print (\"Could not find true expression\")"
      ],
      "execution_count": null,
      "outputs": [
        {
          "output_type": "stream",
          "text": [
            "Could not find true expression\n"
          ],
          "name": "stdout"
        }
      ]
    },
    {
      "cell_type": "markdown",
      "metadata": {
        "id": "r96q1M3h95GS"
      },
      "source": [
        "Note:\n",
        "- `==`:  For testing equavalency\n",
        "- `<` : Less than\n",
        "- `>=`: Greater than or equal to"
      ]
    },
    {
      "cell_type": "markdown",
      "metadata": {
        "id": "LeFFXEIAX2af"
      },
      "source": [
        "## <font color = navy> 2.3.2. Iteration"
      ]
    },
    {
      "cell_type": "markdown",
      "metadata": {
        "id": "05zuHVEg_qNp"
      },
      "source": [
        "### <font color = navy> 2.3.2.1. For Loops"
      ]
    },
    {
      "cell_type": "code",
      "metadata": {
        "colab": {
          "base_uri": "https://localhost:8080/",
          "height": 398
        },
        "id": "4q4iRZuY_yJB",
        "outputId": "ace82743-cf27-412e-e4a2-8fe5a03784d4"
      },
      "source": [
        "from IPython.display import Image\n",
        "Image(\"https://media.geeksforgeeks.org/wp-content/uploads/20191101172216/for-loop-python.jpg\")"
      ],
      "execution_count": null,
      "outputs": [
        {
          "output_type": "execute_result",
          "data": {
            "image/jpeg": "[encoded data removed]",
            "text/plain": [
              "<IPython.core.display.Image object>"
            ]
          },
          "metadata": {
            "tags": []
          },
          "execution_count": 38
        }
      ]
    },
    {
      "cell_type": "code",
      "metadata": {
        "id": "aTKL6rZpX2af",
        "colab": {
          "base_uri": "https://localhost:8080/"
        },
        "outputId": "cb0073f5-5b2a-4ba3-f929-9701049368c4"
      },
      "source": [
        "n = 12\n",
        "for i in range(2,n):\n",
        "    print(i)"
      ],
      "execution_count": null,
      "outputs": [
        {
          "output_type": "stream",
          "text": [
            "2\n",
            "3\n",
            "4\n",
            "5\n",
            "6\n",
            "7\n",
            "8\n",
            "9\n",
            "10\n",
            "11\n"
          ],
          "name": "stdout"
        }
      ]
    },
    {
      "cell_type": "markdown",
      "metadata": {
        "id": "re9Def8lAGkr"
      },
      "source": [
        "The range() function returns a sequence of numbers, starting from 0 by default, and increments by 1 (by default), and stops before a specified number.\n",
        "```\n",
        " range(start, stop, step) \n",
        "```\n",
        "\n",
        "- start \t*Optional.* An integer number specifying at which position to start. Default is 0\n",
        "- stop \t*Required.* An integer number specifying at which position to stop (not included).\n",
        "- step \t*Optional.* An integer number specifying the incrementation. Default is 1\n",
        "\n"
      ]
    },
    {
      "cell_type": "markdown",
      "metadata": {
        "id": "yMi0rGCkAwXJ"
      },
      "source": [
        "### <font color = navy> 2.3.2.2. While Loops"
      ]
    },
    {
      "cell_type": "code",
      "metadata": {
        "colab": {
          "base_uri": "https://localhost:8080/",
          "height": 398
        },
        "id": "llUAdWAoA5pM",
        "outputId": "d171db3f-d83f-4fdb-eb19-3339a729d06d"
      },
      "source": [
        "from IPython.display import Image\n",
        "Image(\"https://media.geeksforgeeks.org/wp-content/uploads/20191101170515/while-loop.jpg\")"
      ],
      "execution_count": null,
      "outputs": [
        {
          "output_type": "execute_result",
          "data": {
            "image/jpeg": "[encoded data removed]",
            "text/plain": [
              "<IPython.core.display.Image object>"
            ]
          },
          "metadata": {
            "tags": []
          },
          "execution_count": 26
        }
      ]
    },
    {
      "cell_type": "code",
      "metadata": {
        "id": "mZHhBF97X2af",
        "colab": {
          "base_uri": "https://localhost:8080/"
        },
        "outputId": "f3180ca4-b3e5-4b9e-dc3b-859766c90870"
      },
      "source": [
        "n = 5\n",
        "i = 1\n",
        "while(i <= n):\n",
        "    print(i)\n",
        "    i = i + 1"
      ],
      "execution_count": null,
      "outputs": [
        {
          "output_type": "stream",
          "text": [
            "1\n",
            "2\n",
            "3\n",
            "4\n",
            "5\n"
          ],
          "name": "stdout"
        }
      ]
    },
    {
      "cell_type": "markdown",
      "metadata": {
        "id": "6VieCaLaX2ab"
      },
      "source": [
        "### <font color = navy> 2.3.2.3. Application: Easy Traversal"
      ]
    },
    {
      "cell_type": "code",
      "metadata": {
        "colab": {
          "base_uri": "https://localhost:8080/",
          "height": 35
        },
        "id": "asM4zVipKcWF",
        "outputId": "4a8308e0-0cf6-430f-82ab-b59eb50aaa5a"
      },
      "source": [
        "myString"
      ],
      "execution_count": null,
      "outputs": [
        {
          "output_type": "execute_result",
          "data": {
            "application/vnd.google.colaboratory.intrinsic+json": {
              "type": "string"
            },
            "text/plain": [
              "'This is a test!!'"
            ]
          },
          "metadata": {
            "tags": []
          },
          "execution_count": 110
        }
      ]
    },
    {
      "cell_type": "code",
      "metadata": {
        "id": "JWC6rjC9X2ab",
        "colab": {
          "base_uri": "https://localhost:8080/"
        },
        "outputId": "c31cfa81-5f3f-4530-d2c2-8f37d0f7e1b2"
      },
      "source": [
        "for myVar in myString:\n",
        "  # print(myVar)\n",
        "  if myVar == 'T':\n",
        "    print (\"I found a T!\")\n"
      ],
      "execution_count": null,
      "outputs": [
        {
          "output_type": "stream",
          "text": [
            "I found a T!\n"
          ],
          "name": "stdout"
        }
      ]
    },
    {
      "cell_type": "code",
      "metadata": {
        "id": "9dk-HmS0X2af",
        "colab": {
          "base_uri": "https://localhost:8080/"
        },
        "outputId": "31a2e002-ccc3-4544-a3e9-0a6a9c967c00"
      },
      "source": [
        "for letter in 'Django':    # First Example\n",
        "    if letter == 'D':\n",
        "        continue\n",
        "    print ('Current Letter:', letter)"
      ],
      "execution_count": null,
      "outputs": [
        {
          "output_type": "stream",
          "text": [
            "Current Letter: j\n",
            "Current Letter: a\n",
            "Current Letter: n\n",
            "Current Letter: g\n",
            "Current Letter: o\n"
          ],
          "name": "stdout"
        }
      ]
    },
    {
      "cell_type": "code",
      "metadata": {
        "id": "IDTeUmLIX2af",
        "colab": {
          "base_uri": "https://localhost:8080/"
        },
        "outputId": "4a2724f6-28af-41b3-9b41-ef09d47c249a"
      },
      "source": [
        "for letter in 'Python':     # First Example\n",
        "    if letter == 'h':\n",
        "        break\n",
        "    print ('Current Letter :', letter)\n",
        "print ('Out of For')\n"
      ],
      "execution_count": null,
      "outputs": [
        {
          "output_type": "stream",
          "text": [
            "Current Letter : P\n",
            "Current Letter : y\n",
            "Current Letter : t\n",
            "Out of For\n"
          ],
          "name": "stdout"
        }
      ]
    },
    {
      "cell_type": "markdown",
      "metadata": {
        "id": "4r0zd067X2af"
      },
      "source": [
        "# <font color = navy> 2.4 Python List\n"
      ]
    },
    {
      "cell_type": "markdown",
      "metadata": {
        "id": "ORUkXdjnDpLR"
      },
      "source": [
        "## <font color = navy> 2.4.1. Basic Syntax"
      ]
    },
    {
      "cell_type": "markdown",
      "metadata": {
        "id": "3owaG3TWX2af"
      },
      "source": [
        "**List:**\n",
        "- A list is represented with [] (square brackets) and is created by providing values separated by “,”.\n",
        "- A list is a data structure that holds an ordered collection of items i.e. you can store a sequence of items in a list.\n",
        "\n",
        "- The list of items should be enclosed in square brackets so that Python understands that you are specifying a list. \n",
        "\n",
        "- Once you have created a list, you can add, remove or search for items in the list. \n",
        "\n",
        "- Since we can add and remove items, we say that a list is a mutable data type i.e. this type can be altered."
      ]
    },
    {
      "cell_type": "code",
      "metadata": {
        "id": "Bb3kfx7nX2af",
        "colab": {
          "base_uri": "https://localhost:8080/"
        },
        "outputId": "10c3ad56-7163-48b3-fdc0-09f8f273e8a7"
      },
      "source": [
        "x = [1,2,3]\n",
        "print(type(x))\n"
      ],
      "execution_count": null,
      "outputs": [
        {
          "output_type": "stream",
          "text": [
            "<class 'list'>\n"
          ],
          "name": "stdout"
        }
      ]
    },
    {
      "cell_type": "code",
      "metadata": {
        "id": "VnebmO1rX2af",
        "colab": {
          "base_uri": "https://localhost:8080/"
        },
        "outputId": "ca4a6b7b-d5d0-41f2-d19e-0cf1e408f11c"
      },
      "source": [
        "y = [10.5,23.45,34.56,45.78]\n",
        "print(y)"
      ],
      "execution_count": null,
      "outputs": [
        {
          "output_type": "stream",
          "text": [
            "[10.5, 23.45, 34.56, 45.78]\n"
          ],
          "name": "stdout"
        }
      ]
    },
    {
      "cell_type": "code",
      "metadata": {
        "id": "csvQUDJYX2af",
        "colab": {
          "base_uri": "https://localhost:8080/"
        },
        "outputId": "eb060f48-221b-45a7-f570-68d6fee9f0ac"
      },
      "source": [
        "z = ['q','r','s','t']\n",
        "print (z)"
      ],
      "execution_count": null,
      "outputs": [
        {
          "output_type": "stream",
          "text": [
            "['q', 'r', 's', 't']\n"
          ],
          "name": "stdout"
        }
      ]
    },
    {
      "cell_type": "markdown",
      "metadata": {
        "id": "fOAdtPCYX2af"
      },
      "source": [
        "1. List allow duplicates of values.\n"
      ]
    },
    {
      "cell_type": "code",
      "metadata": {
        "id": "lW6sv178X2af",
        "colab": {
          "base_uri": "https://localhost:8080/"
        },
        "outputId": "dc4b4d7c-88be-4dc9-c294-dfeb59e8c616"
      },
      "source": [
        "x = [10,25,10,38,25]\n",
        "print(x)"
      ],
      "execution_count": null,
      "outputs": [
        {
          "output_type": "stream",
          "text": [
            "[10, 25, 10, 38, 25]\n"
          ],
          "name": "stdout"
        }
      ]
    },
    {
      "cell_type": "markdown",
      "metadata": {
        "id": "OWiG0THlX2af"
      },
      "source": [
        "2. A list contains ordered set of elements , hence can be accessed by using index which starts from 0.\n",
        "\n"
      ]
    },
    {
      "cell_type": "code",
      "metadata": {
        "id": "IddDGCiFX2af",
        "colab": {
          "base_uri": "https://localhost:8080/"
        },
        "outputId": "2996dc8f-8c88-40e5-f509-e852ac3ed4bd"
      },
      "source": [
        "x = [10,25,12,38,24]\n",
        "print(x[0])\n",
        "print(x[3])\n",
        "#print (x[5])"
      ],
      "execution_count": null,
      "outputs": [
        {
          "output_type": "stream",
          "text": [
            "10\n",
            "38\n"
          ],
          "name": "stdout"
        }
      ]
    },
    {
      "cell_type": "markdown",
      "metadata": {
        "id": "xKAHfK_hX2af"
      },
      "source": [
        "3. Index values greater than range then error is generated.\n",
        "4. Reverse index is also possible just like strings.\n"
      ]
    },
    {
      "cell_type": "code",
      "metadata": {
        "id": "oGzG_qVRX2af",
        "colab": {
          "base_uri": "https://localhost:8080/"
        },
        "outputId": "472fd777-2387-4c99-ef50-f449b75134d9"
      },
      "source": [
        "x = [10,25,10,38,25]\n",
        "print(x[-1])"
      ],
      "execution_count": null,
      "outputs": [
        {
          "output_type": "stream",
          "text": [
            "25\n"
          ],
          "name": "stdout"
        }
      ]
    },
    {
      "cell_type": "code",
      "metadata": {
        "colab": {
          "base_uri": "https://localhost:8080/"
        },
        "id": "oNu_hsCzpw-f",
        "outputId": "c01abbf1-5fbb-4d60-e86f-0e86976ee08e"
      },
      "source": [
        "len(x)"
      ],
      "execution_count": null,
      "outputs": [
        {
          "output_type": "execute_result",
          "data": {
            "text/plain": [
              "5"
            ]
          },
          "metadata": {
            "tags": []
          },
          "execution_count": 124
        }
      ]
    },
    {
      "cell_type": "markdown",
      "metadata": {
        "id": "vFAhF865X2af"
      },
      "source": [
        "5. Empty list can be created in two different ways.\n",
        "\n"
      ]
    },
    {
      "cell_type": "code",
      "metadata": {
        "id": "1IemFSWOX2af",
        "colab": {
          "base_uri": "https://localhost:8080/"
        },
        "outputId": "01f89436-c8ac-47ce-ef9e-d4331029d80b"
      },
      "source": [
        "a = []\n",
        "print(a)\n",
        "\n",
        "b=list()\n",
        "print(b)\n",
        "\n"
      ],
      "execution_count": null,
      "outputs": [
        {
          "output_type": "stream",
          "text": [
            "[]\n",
            "[]\n"
          ],
          "name": "stdout"
        }
      ]
    },
    {
      "cell_type": "markdown",
      "metadata": {
        "id": "4SJumF9MX2af"
      },
      "source": [
        "6. Elements in list can be updated since list is mutable.\n"
      ]
    },
    {
      "cell_type": "code",
      "metadata": {
        "id": "bZ08gkM4X2af",
        "colab": {
          "base_uri": "https://localhost:8080/"
        },
        "outputId": "0ca76f50-0350-4971-d093-dda9619ec7be"
      },
      "source": [
        "x = [10,25,10,38,25]\n",
        "print(x[1])\n",
        "x[1] = 5\n",
        "print(x[1])\n",
        "print(x)"
      ],
      "execution_count": null,
      "outputs": [
        {
          "output_type": "stream",
          "text": [
            "25\n",
            "5\n",
            "[10, 5, 10, 38, 25]\n"
          ],
          "name": "stdout"
        }
      ]
    },
    {
      "cell_type": "markdown",
      "metadata": {
        "id": "Rz4V5YdaX2ag"
      },
      "source": [
        "## <font color = navy> 2.4.2. List Assignment and Equivalence\n",
        "List assignment is used to assign all the elements of list to another list.\n",
        "\n",
        "- Below, memory is allocated for both objects separately"
      ]
    },
    {
      "cell_type": "code",
      "metadata": {
        "id": "P8DSSp7OX2ag",
        "colab": {
          "base_uri": "https://localhost:8080/"
        },
        "outputId": "4c022e93-36fc-4eac-efc5-da1e9fe4a05e"
      },
      "source": [
        "a = [2,4,6]\n",
        "c = list(a)\n",
        "print(c)\n",
        "c[0] = 10\n",
        "print(c)\n",
        "print(a)\n"
      ],
      "execution_count": null,
      "outputs": [
        {
          "output_type": "stream",
          "text": [
            "[2, 4, 6]\n",
            "[10, 4, 6]\n",
            "[2, 4, 6]\n"
          ],
          "name": "stdout"
        }
      ]
    },
    {
      "cell_type": "markdown",
      "metadata": {
        "id": "9A6Q_OM0X2ag"
      },
      "source": [
        "- List are assigned through memory location\n",
        "- Changing one list effects the other, as the memory locations are the same"
      ]
    },
    {
      "cell_type": "code",
      "metadata": {
        "id": "qAzdFMpgX2ag",
        "colab": {
          "base_uri": "https://localhost:8080/"
        },
        "outputId": "3488cfe8-3cbe-4fe0-9801-85eda19f1a57"
      },
      "source": [
        "a = [2,4,6]\n",
        "b = a\n",
        "print(b)\n",
        "b[1] = 12\n",
        "print(a ,b)"
      ],
      "execution_count": null,
      "outputs": [
        {
          "output_type": "stream",
          "text": [
            "[2, 4, 6]\n",
            "[2, 12, 6] [2, 12, 6]\n"
          ],
          "name": "stdout"
        }
      ]
    },
    {
      "cell_type": "markdown",
      "metadata": {
        "id": "p8ZiVE4rX2ag"
      },
      "source": [
        "## <font color = navy> 2.4.3. List Comparison and slicing\n"
      ]
    },
    {
      "cell_type": "markdown",
      "metadata": {
        "id": "3u2kODapX2ag"
      },
      "source": [
        "1. List elements or list as whole also can be compared.\n",
        "\n"
      ]
    },
    {
      "cell_type": "code",
      "metadata": {
        "id": "o5-A7-kLX2ag",
        "colab": {
          "base_uri": "https://localhost:8080/"
        },
        "outputId": "ad0b9a77-cc75-42f4-e813-bb2a0fbae81c"
      },
      "source": [
        "a = [2,4,6]\n",
        "b = [3,2,5]\n",
        "print (a[1]==b[1])\n",
        "print (a[0]==b[1])\n",
        "print (a==b)"
      ],
      "execution_count": null,
      "outputs": [
        {
          "output_type": "stream",
          "text": [
            "False\n",
            "True\n",
            "False\n"
          ],
          "name": "stdout"
        }
      ]
    },
    {
      "cell_type": "markdown",
      "metadata": {
        "id": "JJ7k_4A9X2ag"
      },
      "source": [
        "2. List slicing is same as string slicing .\n"
      ]
    },
    {
      "cell_type": "code",
      "metadata": {
        "id": "NMMfEX-ZX2ag",
        "colab": {
          "base_uri": "https://localhost:8080/"
        },
        "outputId": "ddac70dc-6273-47f6-c0df-8f427b16deab"
      },
      "source": [
        "a = [0,1,2,3,4,5,6,7,8,9,10]\n",
        "print(a[1:4])\n",
        "print(a[:6])\n",
        "print(a[3:])\n",
        "print(a[2:8:2])\n",
        "print(a[2:10:2])"
      ],
      "execution_count": null,
      "outputs": [
        {
          "output_type": "stream",
          "text": [
            "[1, 2, 3]\n",
            "[0, 1, 2, 3, 4, 5]\n",
            "[3, 4, 5, 6, 7, 8, 9, 10]\n",
            "[2, 4, 6]\n",
            "[2, 4, 6, 8]\n"
          ],
          "name": "stdout"
        }
      ]
    },
    {
      "cell_type": "markdown",
      "metadata": {
        "id": "v-AUg1LxX2ah"
      },
      "source": [
        "## <font color = navy> 2.4.4. Nested list\n",
        "\n",
        "List can have list itself as its elements.\n",
        "\n"
      ]
    },
    {
      "cell_type": "code",
      "metadata": {
        "id": "gm2EpBNfX2ah",
        "colab": {
          "base_uri": "https://localhost:8080/"
        },
        "outputId": "0e36c6ff-862d-4cdd-e75a-376756b3d472"
      },
      "source": [
        "x = [[2,4,6] ,[3,2,5]]\n",
        "print (x)\n",
        "for i in x:\n",
        "    print(i)\n",
        "    for j in i :\n",
        "        print(j)\n",
        "\n",
        "#### Print individual elements for following list.\n",
        "y = [[[2],[2,3,4],[6,5]] ,[[3],[2,5]]]"
      ],
      "execution_count": null,
      "outputs": [
        {
          "output_type": "stream",
          "text": [
            "[[2, 4, 6], [3, 2, 5]]\n",
            "[2, 4, 6]\n",
            "2\n",
            "4\n",
            "6\n",
            "[3, 2, 5]\n",
            "3\n",
            "2\n",
            "5\n"
          ],
          "name": "stdout"
        }
      ]
    },
    {
      "cell_type": "markdown",
      "metadata": {
        "id": "IahvBgCzX2ah"
      },
      "source": [
        "## <font color = navy> 2.4.5. List comprehension\n"
      ]
    },
    {
      "cell_type": "markdown",
      "metadata": {
        "id": "nCIdy_IfX2ah"
      },
      "source": [
        "- List comprehensions are used for creating new list from another iterables.\n",
        "\n",
        "- As list comprehension returns list, they consists of brackets containing the expression which needs to be executed for each element along with the for loop to iterate over each element.\n",
        "\n",
        "- Basic syntax:\n",
        "\n",
        "- new_list = [expression for_loop_one_or_more condtions]\n"
      ]
    },
    {
      "cell_type": "code",
      "metadata": {
        "colab": {
          "base_uri": "https://localhost:8080/",
          "height": 172
        },
        "id": "F-aqaC87F8Mo",
        "outputId": "b714993e-91d6-42e8-9268-a3b908ef5e22"
      },
      "source": [
        "from IPython.display import Image\n",
        "Image(\"https://4.bp.blogspot.com/-uRPZqKbIGwQ/XRtgWhC6qqI/AAAAAAAAH0w/--oGnwKsnpo00GwQgH2gV3RPwHwK8uONgCLcBGAs/s1600/comprehension.PNG\")"
      ],
      "execution_count": null,
      "outputs": [
        {
          "output_type": "execute_result",
          "data": {
            "image/png": "[encoded data removed]",
            "text/plain": [
              "<IPython.core.display.Image object>"
            ]
          },
          "metadata": {
            "tags": []
          },
          "execution_count": 48
        }
      ]
    },
    {
      "cell_type": "code",
      "metadata": {
        "id": "tLdQrqLbX2ah"
      },
      "source": [
        "numbers = [1,2,3,4]\n",
        "squares=[]\n",
        "for i in numbers:\n",
        "    squares.append(i**2)"
      ],
      "execution_count": null,
      "outputs": []
    },
    {
      "cell_type": "code",
      "metadata": {
        "scrolled": true,
        "id": "S2W6fh7_X2ai",
        "colab": {
          "base_uri": "https://localhost:8080/"
        },
        "outputId": "bd64dd04-82bc-44e4-c68a-f20e5097b9af"
      },
      "source": [
        "print(squares)"
      ],
      "execution_count": null,
      "outputs": [
        {
          "output_type": "stream",
          "text": [
            "[1, 4, 9, 16]\n"
          ],
          "name": "stdout"
        }
      ]
    },
    {
      "cell_type": "markdown",
      "metadata": {
        "id": "DBBUg3z-X2ai"
      },
      "source": [
        "Above loop in the form of a list comprehension"
      ]
    },
    {
      "cell_type": "code",
      "metadata": {
        "id": "rk7PKod5X2ai",
        "colab": {
          "base_uri": "https://localhost:8080/"
        },
        "outputId": "9b921edd-08b0-4e8a-eecc-18434ff1c805"
      },
      "source": [
        "squares2 = [i**2 for i in numbers]\n",
        "print(squares2)"
      ],
      "execution_count": null,
      "outputs": [
        {
          "output_type": "stream",
          "text": [
            "[1, 4, 9, 16]\n"
          ],
          "name": "stdout"
        }
      ]
    },
    {
      "cell_type": "markdown",
      "metadata": {
        "id": "ZtFUEBCVX2ai"
      },
      "source": [
        "Finding common numbers in 2 list"
      ]
    },
    {
      "cell_type": "code",
      "metadata": {
        "id": "9Y4Kelr4X2ai",
        "colab": {
          "base_uri": "https://localhost:8080/"
        },
        "outputId": "f01870a5-2afa-4594-cb57-f123d7a04836"
      },
      "source": [
        "# Find common numbers from two list using for loop.\n",
        "\n",
        "list_a = [1, 2, 3, 4]\n",
        "list_b = [2, 3, 4, 5]\n",
        "\n",
        "common_num = [a for a in list_a for b in list_b if a == b]\n",
        "\n",
        "print(common_num) # Output: [2, 3, 4]\n",
        "\n"
      ],
      "execution_count": null,
      "outputs": [
        {
          "output_type": "stream",
          "text": [
            "[2, 3, 4]\n"
          ],
          "name": "stdout"
        }
      ]
    },
    {
      "cell_type": "markdown",
      "metadata": {
        "id": "dVaw17ZGX2ai"
      },
      "source": [
        "Creating a nested list"
      ]
    },
    {
      "cell_type": "code",
      "metadata": {
        "id": "5kxV1mOaX2ai",
        "colab": {
          "base_uri": "https://localhost:8080/"
        },
        "outputId": "0a94f666-1e21-4cb1-e3ec-d4a7103bbb23"
      },
      "source": [
        "list_a = [1, 2, 3]\n",
        "list_b = [2, 7]\n",
        "\n",
        "different_num = [(a, b) for a in list_a for b in list_b if a != b]\n",
        "\n",
        "print(different_num) # Output: [(1, 2), (1, 7), (2, 7), (3, 2), (3, 7)]"
      ],
      "execution_count": null,
      "outputs": [
        {
          "output_type": "stream",
          "text": [
            "[(1, 2), (1, 7), (2, 7), (3, 2), (3, 7)]\n"
          ],
          "name": "stdout"
        }
      ]
    },
    {
      "cell_type": "markdown",
      "metadata": {
        "id": "2qCI5wdxX2ai"
      },
      "source": [
        "# <font color = navy> 2.5. Python Dictionaries \n",
        "\n"
      ]
    },
    {
      "cell_type": "markdown",
      "metadata": {
        "id": "eGCzxFYYX2ai"
      },
      "source": [
        "- Pairs of keys and values are specified in a dictionary by using the notation \n",
        "\n",
        "       d = {key1 : value1, key2 : value2 } \n",
        " \n",
        "- Notice that the key-value pairs are separated by a colon and the pairs are separated themselves by commas and all this is enclosed in a pair of curly braces.\n",
        "\n",
        "- Remember that key-value pairs in a dictionary are not ordered in any manner. If you want a particular order, then you will have to sort them yourself before using it.\n",
        "\n",
        "- The dictionaries that we will be using are instances/objects of the dict class.\n"
      ]
    },
    {
      "cell_type": "markdown",
      "metadata": {
        "id": "r1ZbFkksX2ai"
      },
      "source": [
        "## <font color = navy> 2.5.1 Dictionary Creation"
      ]
    },
    {
      "cell_type": "markdown",
      "metadata": {
        "id": "ew6z9bWdpEpq"
      },
      "source": [
        "Variable assigned with empty curly braces will have data type **\"dict\"**. But variable assigned with a single value will have datatype **\"set\"**.\n",
        "Refer variable **d1** and **d3** respectively."
      ]
    },
    {
      "cell_type": "code",
      "metadata": {
        "id": "ZiSmY_abX2ai",
        "colab": {
          "base_uri": "https://localhost:8080/"
        },
        "outputId": "b7f12581-90f3-495b-9327-130325f520c4"
      },
      "source": [
        "d1 = {}\n",
        "print (d1)\n",
        "print(type(d1))"
      ],
      "execution_count": null,
      "outputs": [
        {
          "output_type": "stream",
          "text": [
            "{}\n",
            "<class 'dict'>\n"
          ],
          "name": "stdout"
        }
      ]
    },
    {
      "cell_type": "code",
      "metadata": {
        "id": "EzsdnrFAX2ai",
        "colab": {
          "base_uri": "https://localhost:8080/"
        },
        "outputId": "50715669-5199-4be8-bcba-8f7c18d63fa2"
      },
      "source": [
        "d2 = dict()\n",
        "print (d2)\n"
      ],
      "execution_count": null,
      "outputs": [
        {
          "output_type": "stream",
          "text": [
            "{}\n"
          ],
          "name": "stdout"
        }
      ]
    },
    {
      "cell_type": "code",
      "metadata": {
        "id": "L7Y2eNe1X2ai",
        "colab": {
          "base_uri": "https://localhost:8080/"
        },
        "outputId": "d8de3b04-2856-498d-f8fb-7e6276bb9d93"
      },
      "source": [
        "d3 = {3}\n",
        "print (d3) \n",
        "print (type(d3))\n"
      ],
      "execution_count": null,
      "outputs": [
        {
          "output_type": "stream",
          "text": [
            "{3}\n",
            "<class 'set'>\n"
          ],
          "name": "stdout"
        }
      ]
    },
    {
      "cell_type": "code",
      "metadata": {
        "id": "3KZlh-LkX2ai",
        "colab": {
          "base_uri": "https://localhost:8080/"
        },
        "outputId": "6cac6b14-93c9-4ef0-82c0-a8c49ebcd342"
      },
      "source": [
        "d1 = {'a' : 3 ,'b':4}\n",
        "print (d1) \n",
        "print (type(d1))\n"
      ],
      "execution_count": null,
      "outputs": [
        {
          "output_type": "stream",
          "text": [
            "{'a': 3, 'b': 4}\n",
            "<class 'dict'>\n"
          ],
          "name": "stdout"
        }
      ]
    },
    {
      "cell_type": "code",
      "metadata": {
        "colab": {
          "base_uri": "https://localhost:8080/"
        },
        "id": "XEothQVetV2C",
        "outputId": "c036e6bf-08f0-4136-b164-c4a359447826"
      },
      "source": [
        "d1['b']"
      ],
      "execution_count": null,
      "outputs": [
        {
          "output_type": "execute_result",
          "data": {
            "text/plain": [
              "4"
            ]
          },
          "metadata": {
            "tags": []
          },
          "execution_count": 142
        }
      ]
    },
    {
      "cell_type": "markdown",
      "metadata": {
        "id": "TNdDy0bApvRe"
      },
      "source": [
        "Creating Dictionary using **list of tuples**."
      ]
    },
    {
      "cell_type": "code",
      "metadata": {
        "id": "HQ1JBMMWX2ai",
        "colab": {
          "base_uri": "https://localhost:8080/"
        },
        "outputId": "dff6f382-5ba6-463d-f14a-78bbe9f6c48d"
      },
      "source": [
        "d1 = dict([('a',3), ('b',5)])\n",
        "print (d1) \n"
      ],
      "execution_count": null,
      "outputs": [
        {
          "output_type": "stream",
          "text": [
            "{'a': 3, 'b': 5}\n"
          ],
          "name": "stdout"
        }
      ]
    },
    {
      "cell_type": "markdown",
      "metadata": {
        "id": "fCwTYnnup4Ho"
      },
      "source": [
        "Creating Dictionary using **list of lists.**"
      ]
    },
    {
      "cell_type": "code",
      "metadata": {
        "scrolled": true,
        "id": "TGaeImMaX2ai",
        "colab": {
          "base_uri": "https://localhost:8080/"
        },
        "outputId": "ca92a41e-b3a7-4eea-e5d3-86dfd7b038ab"
      },
      "source": [
        "d2= dict([['a',3], ['b',5]])\n",
        "print (d2) \n"
      ],
      "execution_count": null,
      "outputs": [
        {
          "output_type": "stream",
          "text": [
            "{'a': 3, 'b': 5}\n"
          ],
          "name": "stdout"
        }
      ]
    },
    {
      "cell_type": "code",
      "metadata": {
        "id": "tkjYbTD2tfoo"
      },
      "source": [
        "d3= {'result1':[23,45,60], 'result2':[34,45,67]}"
      ],
      "execution_count": null,
      "outputs": []
    },
    {
      "cell_type": "code",
      "metadata": {
        "id": "1TQd95I6tvbu"
      },
      "source": [
        ""
      ],
      "execution_count": null,
      "outputs": []
    },
    {
      "cell_type": "markdown",
      "metadata": {
        "id": "YLInzMi4rqEs"
      },
      "source": [
        "## <font color = navy> 2.5.2 Dictionary Manipulation"
      ]
    },
    {
      "cell_type": "code",
      "metadata": {
        "id": "Fq7cEgaUX2ai",
        "colab": {
          "base_uri": "https://localhost:8080/"
        },
        "outputId": "24fbdbe9-2f2f-42af-a4a4-b88edb018bf4"
      },
      "source": [
        "d = {1:'a' , 2:'b'}\n",
        "print (d)\n",
        "d[5] = 'g'\n",
        "print(d)\n",
        "\n"
      ],
      "execution_count": null,
      "outputs": [
        {
          "output_type": "stream",
          "text": [
            "{1: 'a', 2: 'b'}\n",
            "{1: 'a', 2: 'b', 5: 'g'}\n"
          ],
          "name": "stdout"
        }
      ]
    },
    {
      "cell_type": "code",
      "metadata": {
        "id": "ohxlpF4BX2aj",
        "colab": {
          "base_uri": "https://localhost:8080/"
        },
        "outputId": "1017c4fb-9635-47b8-9a3d-97247688d89b"
      },
      "source": [
        "d = {1:'a' , 2:'b'}\n",
        "print (d)\n",
        "d[1] = 'g'\n",
        "print(d)"
      ],
      "execution_count": null,
      "outputs": [
        {
          "output_type": "stream",
          "text": [
            "{1: 'a', 2: 'b'}\n",
            "{1: 'g', 2: 'b'}\n"
          ],
          "name": "stdout"
        }
      ]
    },
    {
      "cell_type": "code",
      "metadata": {
        "colab": {
          "base_uri": "https://localhost:8080/"
        },
        "id": "ynBkZO1vrym7",
        "outputId": "0826602e-cfa4-414a-b687-4493505ce9f2"
      },
      "source": [
        "print(d[1]) # getting values using keys"
      ],
      "execution_count": null,
      "outputs": [
        {
          "output_type": "stream",
          "text": [
            "g\n"
          ],
          "name": "stdout"
        }
      ]
    },
    {
      "cell_type": "markdown",
      "metadata": {
        "id": "h0GkQm9VsqMs"
      },
      "source": [
        ".values(), .keys(), .items()"
      ]
    },
    {
      "cell_type": "code",
      "metadata": {
        "colab": {
          "base_uri": "https://localhost:8080/"
        },
        "id": "-LK_6QU7r4ca",
        "outputId": "496ebc9c-6416-43d7-eef7-3e1513da2bf1"
      },
      "source": [
        "print(d.values()) # this returns list of values"
      ],
      "execution_count": null,
      "outputs": [
        {
          "output_type": "stream",
          "text": [
            "dict_values(['g', 'b'])\n"
          ],
          "name": "stdout"
        }
      ]
    },
    {
      "cell_type": "code",
      "metadata": {
        "colab": {
          "base_uri": "https://localhost:8080/"
        },
        "id": "8tlXCcR0r4fr",
        "outputId": "91d0ac92-236f-4f32-e95e-4c34bcf1bf42"
      },
      "source": [
        "print(d.keys()) # this returns list of keys"
      ],
      "execution_count": null,
      "outputs": [
        {
          "output_type": "stream",
          "text": [
            "dict_keys([1, 2])\n"
          ],
          "name": "stdout"
        }
      ]
    },
    {
      "cell_type": "code",
      "metadata": {
        "colab": {
          "base_uri": "https://localhost:8080/"
        },
        "id": "oKUX7tPfsSYo",
        "outputId": "aaf0e818-74b0-4f27-9a8d-de4f8a1c6631"
      },
      "source": [
        "print(d.items()) # this dictionary in list of tuple form"
      ],
      "execution_count": null,
      "outputs": [
        {
          "output_type": "stream",
          "text": [
            "dict_items([(1, 'g'), (2, 'b')])\n"
          ],
          "name": "stdout"
        }
      ]
    },
    {
      "cell_type": "markdown",
      "metadata": {
        "id": "vheY2f7iX2aj"
      },
      "source": [
        "## <font color = navy> 2.5.3 Immutable Keys\n",
        "Keys has to be immutable data types only\n",
        "**Tuples, Strings** are **immutable** datatypes so they **can** be used for keys.\n",
        "**Lists, Sets** are **mutable** datatypes so they **cannot** be used for keys."
      ]
    },
    {
      "cell_type": "code",
      "metadata": {
        "scrolled": true,
        "id": "d9jGC3UUX2aj",
        "colab": {
          "base_uri": "https://localhost:8080/"
        },
        "outputId": "f36b3e39-1109-4c6e-b37a-459018bb60ee"
      },
      "source": [
        "# Keys should always be Unique \n",
        "d = {1:'a', 1:'b'}\n",
        "print (d)\n"
      ],
      "execution_count": null,
      "outputs": [
        {
          "output_type": "stream",
          "text": [
            "{1: 'b'}\n"
          ],
          "name": "stdout"
        }
      ]
    },
    {
      "cell_type": "code",
      "metadata": {
        "id": "F6XU4Z5yX2aj",
        "colab": {
          "base_uri": "https://localhost:8080/"
        },
        "outputId": "a7937f11-d02e-49b1-c0b0-6852800a4b93"
      },
      "source": [
        "d = {1:'a', 2:'b'}\n",
        "print (d)\n",
        "d = {'a': 2, 'b' : 3}\n",
        "print (d)\n"
      ],
      "execution_count": null,
      "outputs": [
        {
          "output_type": "stream",
          "text": [
            "{1: 'a', 2: 'b'}\n",
            "{'a': 2, 'b': 3}\n"
          ],
          "name": "stdout"
        }
      ]
    },
    {
      "cell_type": "markdown",
      "metadata": {
        "id": "BdsIChrsuYph"
      },
      "source": [
        ""
      ]
    },
    {
      "cell_type": "code",
      "metadata": {
        "id": "Wqd8AI9hX2aj",
        "colab": {
          "base_uri": "https://localhost:8080/",
          "height": 246
        },
        "outputId": "b7a8d4c0-3fd8-4e10-b5be-514ae9adfcfe"
      },
      "source": [
        "d = {(1,3):'a', 1:'b'}\n",
        "print (d)\n",
        "d1 = {[1,3]:'a', 1:'b'}\n",
        "print (d1)\n",
        "# Since List is not Immutable, it cannot be used as a key"
      ],
      "execution_count": null,
      "outputs": [
        {
          "output_type": "stream",
          "text": [
            "{(1, 3): 'a', 1: 'b'}\n"
          ],
          "name": "stdout"
        },
        {
          "output_type": "error",
          "ename": "TypeError",
          "evalue": "ignored",
          "traceback": [
            "\u001b[0;31m---------------------------------------------------------------------------\u001b[0m",
            "\u001b[0;31mTypeError\u001b[0m                                 Traceback (most recent call last)",
            "\u001b[0;32m<ipython-input-155-19023ff5733e>\u001b[0m in \u001b[0;36m<module>\u001b[0;34m()\u001b[0m\n\u001b[1;32m      1\u001b[0m \u001b[0md\u001b[0m \u001b[0;34m=\u001b[0m \u001b[0;34m{\u001b[0m\u001b[0;34m(\u001b[0m\u001b[0;36m1\u001b[0m\u001b[0;34m,\u001b[0m\u001b[0;36m3\u001b[0m\u001b[0;34m)\u001b[0m\u001b[0;34m:\u001b[0m\u001b[0;34m'a'\u001b[0m\u001b[0;34m,\u001b[0m \u001b[0;36m1\u001b[0m\u001b[0;34m:\u001b[0m\u001b[0;34m'b'\u001b[0m\u001b[0;34m}\u001b[0m\u001b[0;34m\u001b[0m\u001b[0;34m\u001b[0m\u001b[0m\n\u001b[1;32m      2\u001b[0m \u001b[0mprint\u001b[0m \u001b[0;34m(\u001b[0m\u001b[0md\u001b[0m\u001b[0;34m)\u001b[0m\u001b[0;34m\u001b[0m\u001b[0;34m\u001b[0m\u001b[0m\n\u001b[0;32m----> 3\u001b[0;31m \u001b[0md1\u001b[0m \u001b[0;34m=\u001b[0m \u001b[0;34m{\u001b[0m\u001b[0;34m[\u001b[0m\u001b[0;36m1\u001b[0m\u001b[0;34m,\u001b[0m\u001b[0;36m3\u001b[0m\u001b[0;34m]\u001b[0m\u001b[0;34m:\u001b[0m\u001b[0;34m'a'\u001b[0m\u001b[0;34m,\u001b[0m \u001b[0;36m1\u001b[0m\u001b[0;34m:\u001b[0m\u001b[0;34m'b'\u001b[0m\u001b[0;34m}\u001b[0m\u001b[0;34m\u001b[0m\u001b[0;34m\u001b[0m\u001b[0m\n\u001b[0m\u001b[1;32m      4\u001b[0m \u001b[0mprint\u001b[0m \u001b[0;34m(\u001b[0m\u001b[0md1\u001b[0m\u001b[0;34m)\u001b[0m\u001b[0;34m\u001b[0m\u001b[0;34m\u001b[0m\u001b[0m\n\u001b[1;32m      5\u001b[0m \u001b[0;31m# Since List is not Immutable, it cannot be used as a key\u001b[0m\u001b[0;34m\u001b[0m\u001b[0;34m\u001b[0m\u001b[0;34m\u001b[0m\u001b[0m\n",
            "\u001b[0;31mTypeError\u001b[0m: unhashable type: 'list'"
          ]
        }
      ]
    },
    {
      "cell_type": "markdown",
      "metadata": {
        "id": "ltnAbyUjX2aj"
      },
      "source": [
        "# <font color = navy>2.6. Functions and applications\n"
      ]
    },
    {
      "cell_type": "markdown",
      "metadata": {
        "id": "qsaUuwTCX2aj"
      },
      "source": [
        "- Functions are reusable pieces of programs\n",
        "- They allow you to give a name to a block of statements and allows to be run anywhere in your program and any number of times. \n",
        "- This is known as calling the function.\n"
      ]
    },
    {
      "cell_type": "code",
      "metadata": {
        "id": "EUJB-jCsX2aj"
      },
      "source": [
        "def print_max(a, b):\n",
        "    if a > b:\n",
        "        print (a, 'is maximum')\n",
        "    elif a == b:\n",
        "        print (a, 'is equal to', b)\n",
        "    else:\n",
        "        print (a, 'is maximum')"
      ],
      "execution_count": null,
      "outputs": []
    },
    {
      "cell_type": "code",
      "metadata": {
        "id": "M1NDGvaiX2aj",
        "colab": {
          "base_uri": "https://localhost:8080/"
        },
        "outputId": "3699b6dd-24d4-41e7-ffc9-abaab852fdb7"
      },
      "source": [
        "# directly pass literal values\n",
        "print_max(3, 4) # calling the function\n",
        "\n",
        "x = 5\n",
        "y = 7\n",
        "\n",
        "# pass variables as arguments\n",
        "print_max(x, y)"
      ],
      "execution_count": null,
      "outputs": [
        {
          "output_type": "stream",
          "text": [
            "3 is maximum\n",
            "5 is maximum\n"
          ],
          "name": "stdout"
        }
      ]
    },
    {
      "cell_type": "markdown",
      "metadata": {
        "id": "KmYQ_-y4X2aj"
      },
      "source": [
        "## <font color = navy>2.6.1. Docstrings in function\n",
        "- Python has a nifty feature called documentation strings, usually referred to by its shorter name docstrings. \n",
        "\n",
        "- DocStrings are an important tool that you should make use of since it helps to document the program better and makes it easier to understand.\n"
      ]
    },
    {
      "cell_type": "code",
      "metadata": {
        "id": "obcL3o-0X2aj"
      },
      "source": [
        "def print_max(x, y):\n",
        "    '''Prints the maximum of two numbers.\n",
        "       The two values must be integers.\n",
        "       Input Arguments: (x,y) 2 real numbers\n",
        "       Output: None\n",
        "       Effect: The maximum of the 2 is printed'''\n",
        "    # convert to integers, if possible\n",
        "    x = int(x)\n",
        "    y = int(y)\n",
        "    if x > y:\n",
        "        print (x, 'is maximum')\n",
        "    else:\n",
        "        print (y, 'is maximum')\n"
      ],
      "execution_count": null,
      "outputs": []
    },
    {
      "cell_type": "code",
      "metadata": {
        "scrolled": true,
        "id": "6E7HZG5bX2aj",
        "colab": {
          "base_uri": "https://localhost:8080/"
        },
        "outputId": "7982cd35-5d16-4c91-c91d-71e0df6a324a"
      },
      "source": [
        "print (print_max.__doc__)"
      ],
      "execution_count": null,
      "outputs": [
        {
          "output_type": "stream",
          "text": [
            "Prints the maximum of two numbers.\n",
            "       The two values must be integers.\n",
            "       Input Arguments: (x,y) 2 real numbers\n",
            "       Output: None\n",
            "       Effect: The maximum of the 2 is printed\n"
          ],
          "name": "stdout"
        }
      ]
    },
    {
      "cell_type": "markdown",
      "metadata": {
        "id": "82om4eajX2aj"
      },
      "source": [
        "## <font color = navy>2.6.2. Default arguement\n",
        "- A value of a argument that the function uses by default\n",
        "- Always comes after variables that are not set as default"
      ]
    },
    {
      "cell_type": "code",
      "metadata": {
        "id": "7zkI2PPKX2aj",
        "colab": {
          "base_uri": "https://localhost:8080/"
        },
        "outputId": "fe769a6b-dd58-4d09-eaaf-0b3c9f0c3427"
      },
      "source": [
        "def say(message, times=3):\n",
        "    print (message * times)\n",
        "say('Hello ')\n",
        "say('World ', 5)\n",
        "\n"
      ],
      "execution_count": null,
      "outputs": [
        {
          "output_type": "stream",
          "text": [
            "Hello Hello Hello \n",
            "World World World World World \n"
          ],
          "name": "stdout"
        }
      ]
    },
    {
      "cell_type": "code",
      "metadata": {
        "id": "HsKZBE1tX2aj"
      },
      "source": [
        "def say1(message='Hi ', times=3):\n",
        "    print (message * times)"
      ],
      "execution_count": null,
      "outputs": []
    },
    {
      "cell_type": "code",
      "metadata": {
        "id": "qnr9O3BgX2aj",
        "colab": {
          "base_uri": "https://localhost:8080/"
        },
        "outputId": "defe3ca6-87a6-48ee-9204-5a5e47ea9795"
      },
      "source": [
        "say1('Hello ')"
      ],
      "execution_count": null,
      "outputs": [
        {
          "output_type": "stream",
          "text": [
            "Hello Hello Hello \n"
          ],
          "name": "stdout"
        }
      ]
    },
    {
      "cell_type": "code",
      "metadata": {
        "id": "unHOtpKSX2aj",
        "colab": {
          "base_uri": "https://localhost:8080/"
        },
        "outputId": "7aa5daff-538c-41eb-8b15-1647fc4cc255"
      },
      "source": [
        "say1('World ', 5)"
      ],
      "execution_count": null,
      "outputs": [
        {
          "output_type": "stream",
          "text": [
            "World World World World World \n"
          ],
          "name": "stdout"
        }
      ]
    },
    {
      "cell_type": "code",
      "metadata": {
        "scrolled": true,
        "id": "4XV0swnKX2aj",
        "colab": {
          "base_uri": "https://localhost:8080/"
        },
        "outputId": "8ed73bef-2356-4765-e6ee-c5d6a7d718cc"
      },
      "source": [
        "say1()"
      ],
      "execution_count": null,
      "outputs": [
        {
          "output_type": "stream",
          "text": [
            "Hi Hi Hi \n"
          ],
          "name": "stdout"
        }
      ]
    },
    {
      "cell_type": "markdown",
      "metadata": {
        "id": "d78lw1PeX2aj"
      },
      "source": [
        "> - Only those parameters which are at the end of the parameter list can be given default argument values i.e. <b> you cannot have a parameter with a default argument value preceding a parameter without a default argument </b> value in the function’s parameter list.\n"
      ]
    },
    {
      "cell_type": "code",
      "metadata": {
        "scrolled": true,
        "id": "P_l0IbidX2aj",
        "colab": {
          "base_uri": "https://localhost:8080/",
          "height": 128
        },
        "outputId": "e73982a6-4f02-41f6-9c52-389902484262"
      },
      "source": [
        "########################\n",
        "\n",
        "def say2(message='Hi ', times):\n",
        "    print (message * times)\n",
        "\n",
        "say2('Hello ')\n",
        "\n",
        "say2('World ', 5)"
      ],
      "execution_count": null,
      "outputs": [
        {
          "output_type": "error",
          "ename": "SyntaxError",
          "evalue": "ignored",
          "traceback": [
            "\u001b[0;36m  File \u001b[0;32m\"<ipython-input-174-efc8a6f8cac7>\"\u001b[0;36m, line \u001b[0;32m3\u001b[0m\n\u001b[0;31m    def say2(message='Hi ', times):\u001b[0m\n\u001b[0m            ^\u001b[0m\n\u001b[0;31mSyntaxError\u001b[0m\u001b[0;31m:\u001b[0m non-default argument follows default argument\n"
          ]
        }
      ]
    },
    {
      "cell_type": "markdown",
      "metadata": {
        "id": "5HkACL-DX2aj"
      },
      "source": [
        "## <font color = navy>2.6.3. Return Values"
      ]
    },
    {
      "cell_type": "code",
      "metadata": {
        "id": "IJbCaFX0l677"
      },
      "source": [
        "def add(x,y):\n",
        "  print(x+y)\n",
        "  "
      ],
      "execution_count": null,
      "outputs": []
    },
    {
      "cell_type": "markdown",
      "metadata": {
        "id": "fvsFI8qtv2yn"
      },
      "source": [
        "When there is no return statement in the function, it returns None"
      ]
    },
    {
      "cell_type": "code",
      "metadata": {
        "colab": {
          "base_uri": "https://localhost:8080/"
        },
        "id": "km0-jTKSv1rC",
        "outputId": "3db3b1ac-bac5-4cb0-bb86-2b46880e1b44"
      },
      "source": [
        "ans = add(2,3) \n",
        "print(ans) "
      ],
      "execution_count": null,
      "outputs": [
        {
          "output_type": "stream",
          "text": [
            "5\n",
            "None\n"
          ],
          "name": "stdout"
        }
      ]
    },
    {
      "cell_type": "markdown",
      "metadata": {
        "id": "nX87KxOewKdx"
      },
      "source": [
        "But when we use return statements the the function will return the appropriate return value"
      ]
    },
    {
      "cell_type": "code",
      "metadata": {
        "id": "hUODS4SPwUtk"
      },
      "source": [
        "def add2(x,y):\n",
        "  z= x+y\n",
        "  return(z)"
      ],
      "execution_count": null,
      "outputs": []
    },
    {
      "cell_type": "code",
      "metadata": {
        "colab": {
          "base_uri": "https://localhost:8080/"
        },
        "id": "MlMOml-6wBCh",
        "outputId": "91798e87-66b1-42ee-8214-03589ae15d56"
      },
      "source": [
        "ans2 = add2(2,3)\n",
        "print(ans2)"
      ],
      "execution_count": null,
      "outputs": [
        {
          "output_type": "stream",
          "text": [
            "5\n"
          ],
          "name": "stdout"
        }
      ]
    },
    {
      "cell_type": "markdown",
      "metadata": {
        "id": "ZMfJisk_IDzw"
      },
      "source": [
        "## <font color = navy> 2.6.4. Dictionary Frequency table"
      ]
    },
    {
      "cell_type": "code",
      "metadata": {
        "id": "zvAWq6HULKLH",
        "colab": {
          "base_uri": "https://localhost:8080/"
        },
        "outputId": "8a788368-c146-47b6-d59d-62a74589417e"
      },
      "source": [
        "# Python program to count the frequency of  \n",
        "# elements in a list using a dictionary \n",
        "  \n",
        "def CountFrequency(my_list): \n",
        "    # Creating an empty dictionary  \n",
        "    freq = {} \n",
        "    for item in my_list: \n",
        "        if (item in freq): \n",
        "            freq[item] += 1\n",
        "        else: \n",
        "            freq[item] = 1\n",
        "  \n",
        "    for key, value in freq.items(): \n",
        "        print (\"% d : % d\"%(key, value)) \n",
        "  \n",
        "# Driver function \n",
        "if __name__ == \"__main__\":  \n",
        "    my_list =[1, 1, 1, 5, 5, 3, 1, 3, 3, 1, 4, 4, 4, 2, 2, 2, 2] \n",
        "  \n",
        "    CountFrequency(my_list) \n"
      ],
      "execution_count": null,
      "outputs": [
        {
          "output_type": "stream",
          "text": [
            " 1 :  5\n",
            " 5 :  2\n",
            " 3 :  3\n",
            " 4 :  3\n",
            " 2 :  4\n"
          ],
          "name": "stdout"
        }
      ]
    },
    {
      "cell_type": "markdown",
      "metadata": {
        "id": "CwXhaisuX2ak"
      },
      "source": [
        "# <font color = navy>2.7. Python Libraries\n"
      ]
    },
    {
      "cell_type": "markdown",
      "metadata": {
        "id": "l1I7AoeRzfDT"
      },
      "source": [
        "The basic import statement is executed in two steps:\n",
        "\n",
        "    - find a module, loading and initializing it if necessary\n",
        "    - define a name or names in the local namespace for the scope where the import statement occurs.\n",
        "\n",
        "When the statement contains multiple clauses (separated by commas) the two steps are carried out separately for each clause, just as though the clauses had been separated out into individual import statements."
      ]
    },
    {
      "cell_type": "markdown",
      "metadata": {
        "id": "7fH3TFXR0nF1"
      },
      "source": [
        "Python code in one module gains access to the code in another module by the process of importing it.\n",
        "It can be done by using **import** keyword."
      ]
    },
    {
      "cell_type": "code",
      "metadata": {
        "id": "qS0P5jLJX2ak",
        "colab": {
          "base_uri": "https://localhost:8080/"
        },
        "outputId": "c71b0334-14e4-4991-b9fb-17ecf77a304b"
      },
      "source": [
        "import pandas\n",
        "help(pandas)"
      ],
      "execution_count": null,
      "outputs": [
        {
          "output_type": "stream",
          "text": [
            "Help on package pandas:\n",
            "\n",
            "NAME\n",
            "    pandas\n",
            "\n",
            "DESCRIPTION\n",
            "    pandas - a powerful data analysis and manipulation library for Python\n",
            "    =====================================================================\n",
            "    \n",
            "    **pandas** is a Python package providing fast, flexible, and expressive data\n",
            "    structures designed to make working with \"relational\" or \"labeled\" data both\n",
            "    easy and intuitive. It aims to be the fundamental high-level building block for\n",
            "    doing practical, **real world** data analysis in Python. Additionally, it has\n",
            "    the broader goal of becoming **the most powerful and flexible open source data\n",
            "    analysis / manipulation tool available in any language**. It is already well on\n",
            "    its way toward this goal.\n",
            "    \n",
            "    Main Features\n",
            "    -------------\n",
            "    Here are just a few of the things that pandas does well:\n",
            "    \n",
            "      - Easy handling of missing data in floating point as well as non-floating\n",
            "        point data.\n",
            "      - Size mutability: columns can be inserted and deleted from DataFrame and\n",
            "        higher dimensional objects\n",
            "      - Automatic and explicit data alignment: objects can be explicitly aligned\n",
            "        to a set of labels, or the user can simply ignore the labels and let\n",
            "        `Series`, `DataFrame`, etc. automatically align the data for you in\n",
            "        computations.\n",
            "      - Powerful, flexible group by functionality to perform split-apply-combine\n",
            "        operations on data sets, for both aggregating and transforming data.\n",
            "      - Make it easy to convert ragged, differently-indexed data in other Python\n",
            "        and NumPy data structures into DataFrame objects.\n",
            "      - Intelligent label-based slicing, fancy indexing, and subsetting of large\n",
            "        data sets.\n",
            "      - Intuitive merging and joining data sets.\n",
            "      - Flexible reshaping and pivoting of data sets.\n",
            "      - Hierarchical labeling of axes (possible to have multiple labels per tick).\n",
            "      - Robust IO tools for loading data from flat files (CSV and delimited),\n",
            "        Excel files, databases, and saving/loading data from the ultrafast HDF5\n",
            "        format.\n",
            "      - Time series-specific functionality: date range generation and frequency\n",
            "        conversion, moving window statistics, date shifting and lagging.\n",
            "\n",
            "PACKAGE CONTENTS\n",
            "    _config (package)\n",
            "    _libs (package)\n",
            "    _testing\n",
            "    _typing\n",
            "    _version\n",
            "    api (package)\n",
            "    arrays (package)\n",
            "    compat (package)\n",
            "    conftest\n",
            "    core (package)\n",
            "    errors (package)\n",
            "    io (package)\n",
            "    plotting (package)\n",
            "    testing\n",
            "    tests (package)\n",
            "    tseries (package)\n",
            "    util (package)\n",
            "\n",
            "SUBMODULES\n",
            "    _hashtable\n",
            "    _lib\n",
            "    _tslib\n",
            "    offsets\n",
            "\n",
            "CLASSES\n",
            "    builtins.object\n",
            "        Panel\n",
            "        SparseDataFrame\n",
            "        SparseSeries\n",
            "        __DatetimeSub\n",
            "        __SparseArraySub\n",
            "    \n",
            "    class Panel(builtins.object)\n",
            "     |  Data descriptors defined here:\n",
            "     |  \n",
            "     |  __dict__\n",
            "     |      dictionary for instance variables (if defined)\n",
            "     |  \n",
            "     |  __weakref__\n",
            "     |      list of weak references to the object (if defined)\n",
            "    \n",
            "    SparseArray = class __SparseArraySub(builtins.object)\n",
            "     |  Methods defined here:\n",
            "     |  \n",
            "     |  emit_warning(dummy=0)\n",
            "     |  \n",
            "     |  ----------------------------------------------------------------------\n",
            "     |  Static methods defined here:\n",
            "     |  \n",
            "     |  __new__(cls, *args, **kwargs)\n",
            "     |      Create and return a new object.  See help(type) for accurate signature.\n",
            "     |  \n",
            "     |  ----------------------------------------------------------------------\n",
            "     |  Data descriptors defined here:\n",
            "     |  \n",
            "     |  __dict__\n",
            "     |      dictionary for instance variables (if defined)\n",
            "     |  \n",
            "     |  __weakref__\n",
            "     |      list of weak references to the object (if defined)\n",
            "    \n",
            "    class SparseDataFrame(builtins.object)\n",
            "     |  Data descriptors defined here:\n",
            "     |  \n",
            "     |  __dict__\n",
            "     |      dictionary for instance variables (if defined)\n",
            "     |  \n",
            "     |  __weakref__\n",
            "     |      list of weak references to the object (if defined)\n",
            "    \n",
            "    class SparseSeries(builtins.object)\n",
            "     |  Data descriptors defined here:\n",
            "     |  \n",
            "     |  __dict__\n",
            "     |      dictionary for instance variables (if defined)\n",
            "     |  \n",
            "     |  __weakref__\n",
            "     |      list of weak references to the object (if defined)\n",
            "    \n",
            "    datetime = class __DatetimeSub(builtins.object)\n",
            "     |  Methods defined here:\n",
            "     |  \n",
            "     |  emit_warning(dummy=0)\n",
            "     |  \n",
            "     |  ----------------------------------------------------------------------\n",
            "     |  Static methods defined here:\n",
            "     |  \n",
            "     |  __new__(cls, *args, **kwargs)\n",
            "     |      Create and return a new object.  See help(type) for accurate signature.\n",
            "     |  \n",
            "     |  ----------------------------------------------------------------------\n",
            "     |  Data descriptors defined here:\n",
            "     |  \n",
            "     |  __dict__\n",
            "     |      dictionary for instance variables (if defined)\n",
            "     |  \n",
            "     |  __weakref__\n",
            "     |      list of weak references to the object (if defined)\n",
            "\n",
            "DATA\n",
            "    IndexSlice = <pandas.core.indexing._IndexSlice object>\n",
            "    NA = <NA>\n",
            "    NaT = NaT\n",
            "    __docformat__ = 'restructuredtext'\n",
            "    __git_version__ = 'b5958ee1999e9aead1938c0bba2b674378807b3d'\n",
            "    describe_option = <pandas._config.config.CallableDynamicDoc object>\n",
            "    get_option = <pandas._config.config.CallableDynamicDoc object>\n",
            "    np = <pandas.__numpy object>\n",
            "    options = <pandas._config.config.DictWrapper object>\n",
            "    reset_option = <pandas._config.config.CallableDynamicDoc object>\n",
            "    set_option = <pandas._config.config.CallableDynamicDoc object>\n",
            "\n",
            "VERSION\n",
            "    1.1.5\n",
            "\n",
            "FILE\n",
            "    /usr/local/lib/python3.6/dist-packages/pandas/__init__.py\n",
            "\n",
            "\n"
          ],
          "name": "stdout"
        },
        {
          "output_type": "stream",
          "text": [
            "/usr/lib/python3.6/inspect.py:441: FutureWarning: The pandas.datetime class is deprecated and will be removed from pandas in a future version. Import from datetime instead.\n",
            "  srch_obj = srch_cls.__getattr__(cls, name)\n",
            "/usr/lib/python3.6/pydoc.py:220: FutureWarning: The pandas.datetime class is deprecated and will be removed from pandas in a future version. Import from datetime instead.\n",
            "  fields = getattr(object, '_fields', [])\n"
          ],
          "name": "stderr"
        }
      ]
    },
    {
      "cell_type": "code",
      "metadata": {
        "id": "SsdRuMEVX2al"
      },
      "source": [
        "import pandas as pd"
      ],
      "execution_count": null,
      "outputs": []
    },
    {
      "cell_type": "markdown",
      "metadata": {
        "id": "sxrn8l8PX2al"
      },
      "source": [
        "\n",
        "##  <font color = navy> 2.7.2. Important Libraries for DS in context to this course\n",
        "\n",
        "\n",
        "1.   [Numpy](https://numpy.org/):  NumPy is a Python library used for working with arrays.\n",
        "2.   [SciPy](https://www.scipy.org/): SciPy is a free and open-source Python library used for scientific computing and technical computing. SciPy contains modules for optimization, linear algebra, integration, interpolation, special functions, FFT, signal and image processing, ODE solvers\n",
        "1.   [Pandas](https://pandas.pydata.org/): In computer programming, pandas is a software library written for the Python programming language for data manipulation and analysis. In particular, it offers data structures and operations for manipulating numerical tables and time series. It is free software released under the three-clause BSD license.\n",
        "1.   [SciKit Learn](https://scikit-learn.org/stable/): Scikit-learn is a free software machine learning library for the Python programming language\n",
        "1.   [matplotlib](https://matplotlib.org/):  Matplotlib is a plotting library for the Python programming language and its numerical mathematics extension NumPy\n",
        "1.   [seaborn](https://seaborn.pydata.org/): Seaborn is a Python data visualization library based on matplotlib. It provides a high-level interface for drawing attractive and informative statistical graphics.\n",
        "\n",
        "\n",
        "\n",
        "\n",
        "\n"
      ]
    }
  ]
}